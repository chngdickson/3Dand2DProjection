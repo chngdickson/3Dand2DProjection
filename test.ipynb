{
 "cells": [
  {
   "cell_type": "code",
   "execution_count": 1,
   "metadata": {},
   "outputs": [
    {
     "name": "stdout",
     "output_type": "stream",
     "text": [
      "Jupyter environment detected. Enabling Open3D WebVisualizer.\n",
      "[Open3D INFO] WebRTC GUI backend enabled.\n",
      "[Open3D INFO] WebRTCWindowSystem: HTTP handshake server disabled.\n"
     ]
    }
   ],
   "source": [
    "import open3d as o3d\n",
    "import matplotlib.pyplot as plt\n",
    "import cv2\n",
    "import numpy as np\n",
    "import torch\n",
    "import os\n",
    "import torch\n",
    "import torch.nn.functional as F\n",
    "import matplotlib.pyplot as plt\n",
    "from open3d.visualization import rendering\n",
    "# Util function for loading point clouds|\n",
    "from raster_pcd2img import pcd2img_torch_v2\n",
    "\n",
    "# Utils for mesh reconstruction\n",
    "from alphashape import alphashape\n",
    "import trimesh\n",
    "import pymeshfix\n"
   ]
  },
  {
   "cell_type": "code",
   "execution_count": 62,
   "metadata": {},
   "outputs": [],
   "source": [
    "def paint_color(pcd, color:str):\n",
    "    if color ==\"red\":\n",
    "        color_code = [1,0,0]\n",
    "    elif color ==\"green\":\n",
    "        color_code = [0,1,0]\n",
    "    elif color ==\"blue\":\n",
    "        color_code = [0,0,1]\n",
    "    elif color == \"grey\":\n",
    "        color_code = [0.9, 0.9, 0.9]\n",
    "    else:\n",
    "        color_code = [0,0,0]\n",
    "    pcd.paint_uniform_color(np.array(color_code))\n",
    "    return pcd\n",
    "\n",
    "def o3dpcd2img(pcd, width, height, return_camera=False):\n",
    "    vis = o3d.visualization.Visualizer()\n",
    "    vis.create_window(width=480, height=640, visible=False)\n",
    "    vis.get_render_option().point_size = 10\n",
    "    vis.add_geometry(pcd)\n",
    "    view_ctl = vis.get_view_control()\n",
    "    view_ctl.set_zoom(0.6)\n",
    "    view_ctl.set_lookat(pcd.get_center())\n",
    "    view_ctl.set_up((1, 0, 0))  # set the positive direction of the x-axis as the up direction\n",
    "    view_ctl.set_front((0, 0, 1))  # set the positive direction of the x-axis toward you\n",
    "    img = vis.capture_screen_float_buffer(True)\n",
    "    depth = vis.capture_depth_float_buffer(True)\n",
    "    if return_camera:\n",
    "       # https://www.open3d.org/html/python_api/open3d.camera.PinholeCameraIntrinsic.html\n",
    "       cam = view_ctl.convert_to_pinhole_camera_parameters()\n",
    "       return img, depth, cam.intrinsic.intrinsic_matrix, cam.extrinsic\n",
    "    vis.destroy_window()\n",
    "    return img, depth\n",
    "\n",
    "def pcd_2_mesh(pcd):\n",
    "    alpha = 0.5\n",
    "    mesh = o3d.geometry.TriangleMesh.create_from_point_cloud_alpha_shape(pcd, alpha)\n",
    "    mesh.compute_vertex_normals()\n",
    "    return mesh\n",
    "\n",
    "def create_2d_mask(width, height, annotations):\n",
    "    imgRGBWithAnnotations = np.zeros([width, height])\n",
    "    imgRGBWithAnnotations = cv2.fillPoly(imgRGBWithAnnotations, [annotations], 1)\n",
    "    return imgRGBWithAnnotations\n",
    "\n",
    "def segment3D_With2DMask(pcd, mask_2d):\n",
    "    uv_indices = np.where(mask_2d == 1)\n",
    "    width, height = mask_2d.shape\n",
    "    indice_list  = [uv_indices[0][i] * width + uv_indices[1][i] for i in range(len(uv_indices[0]))]\n",
    "    crop = pcd.select_by_index(indice_list)\n",
    "    crop.remove_non_finite_points()\n",
    "\n",
    "def intrinsic3x3_to_4x4(K_3x3):\n",
    "    \"\"\"Convert a 3x3 intrinsic matrix to a 4x4 matrix.\"\"\"\n",
    "    K_4x4 = np.eye(4)  # Initialize as 4x4 identity matrix\n",
    "    K_4x4[:2, :3] = K_3x3[:2, :3]  # Copy first two rows\n",
    "    K_4x4[2, :3] = K_3x3[2, :3]    # Copy third row\n",
    "    return K_4x4\n",
    "\n",
    "def reproject3D_to_2d(pcd, intrins, extrinsic):\n",
    "    points_arr = np.array(pcd.points)\n",
    "    \n",
    "    intrins4x4 = intrinsic3x3_to_4x4(intrins) \n",
    "    arr = np.hstack((points_arr, np.ones((points_arr.shape[0],1))))\n",
    "    \n",
    "    arr_uv = arr @ np.linalg.pinv(extrinsic) @ np.linalg.pinv(intrins4x4)\n",
    "    print(arr_uv.max())\n",
    "    # uv = intrins x extrinsic x 3d_coordinates\n",
    "    # \n",
    "    # points_2d = cv2.projectPoints(np.array(pcd.points), )\n",
    "\n",
    "def project_3d_to_2d(points_3d, K, extrinsic):\n",
    "    \"\"\"\n",
    "    Project 3D points to 2D image coordinates.\n",
    "    \n",
    "    Args:\n",
    "        points_3d: (N, 3) array of 3D points (X, Y, Z).\n",
    "        K: (3, 3) intrinsic matrix.\n",
    "        extrinsic: (4, 4) extrinsic matrix [R | t].\n",
    "    \n",
    "    Returns:\n",
    "        points_2d: (N, 2) array of 2D image coordinates (u, v).\n",
    "        depths: (N,) array of depths (Z in camera space).\n",
    "    \"\"\"\n",
    "    # Convert to homogeneous coordinates (N, 4)\n",
    "    N = points_3d.shape[0]\n",
    "    points_hom = np.hstack([points_3d, np.ones((N, 1))])\n",
    "    \n",
    "    # Apply extrinsic matrix (world-to-camera)\n",
    "    points_cam = (extrinsic @ points_hom.T).T  # (4, N) -> (N, 4)\n",
    "    \n",
    "    # Drop homogeneous coordinate (now in camera space)\n",
    "    points_cam = points_cam[:, :3]  # (N, 3)\n",
    "    \n",
    "    # Apply intrinsic matrix (camera-to-image)\n",
    "    points_2d_hom = (K @ points_cam.T).T  # (3, N) -> (N, 3)\n",
    "    \n",
    "    # Normalize by depth (Z) to get (u, v)\n",
    "    depths = points_2d_hom[:, 2]\n",
    "    points_2d = points_2d_hom[:, :2] / depths[:, None]  # (N, 2)\n",
    "    \n",
    "    return points_2d\n"
   ]
  },
  {
   "cell_type": "code",
   "execution_count": 66,
   "metadata": {},
   "outputs": [
    {
     "name": "stdout",
     "output_type": "stream",
     "text": [
      "(3, 3) (4, 4)\n",
      "<class 'numpy.ndarray'>\n",
      "462 544\n"
     ]
    },
    {
     "ename": "TypeError",
     "evalue": "select_by_index(): incompatible function arguments. The following argument types are supported:\n    1. (self: open3d.cuda.pybind.geometry.PointCloud, indices: list[int], invert: bool = False) -> open3d.cuda.pybind.geometry.PointCloud\n\nInvoked with: PointCloud with 14088 points., [array([   47,    48,    49, ..., 14069, 14073, 14082])]",
     "output_type": "error",
     "traceback": [
      "\u001b[0;31m---------------------------------------------------------------------------\u001b[0m",
      "\u001b[0;31mTypeError\u001b[0m                                 Traceback (most recent call last)",
      "Cell \u001b[0;32mIn[66], line 20\u001b[0m\n\u001b[1;32m     17\u001b[0m \u001b[38;5;28mprint\u001b[39m(pcd_uv[:,\u001b[38;5;241m0\u001b[39m]\u001b[38;5;241m.\u001b[39mmax(), pcd_uv[:,\u001b[38;5;241m1\u001b[39m]\u001b[38;5;241m.\u001b[39mmax())\n\u001b[1;32m     18\u001b[0m arr_ \u001b[38;5;241m=\u001b[39m mask_2d[pcd_uv[:,\u001b[38;5;241m0\u001b[39m], pcd_uv[:,\u001b[38;5;241m1\u001b[39m]]\u001b[38;5;241m.\u001b[39mnonzero()\n\u001b[0;32m---> 20\u001b[0m pcd_selected \u001b[38;5;241m=\u001b[39m \u001b[43mpcd\u001b[49m\u001b[38;5;241;43m.\u001b[39;49m\u001b[43mselect_by_index\u001b[49m\u001b[43m(\u001b[49m\u001b[38;5;28;43mlist\u001b[39;49m\u001b[43m(\u001b[49m\u001b[43marr_\u001b[49m\u001b[43m)\u001b[49m\u001b[43m)\u001b[49m\n\u001b[1;32m     21\u001b[0m o3d\u001b[38;5;241m.\u001b[39mvisualization\u001b[38;5;241m.\u001b[39mdraw_geometries([pcd_selected])\n\u001b[1;32m     22\u001b[0m \u001b[38;5;66;03m# np.ones((pcd.points.shape[0],1))\u001b[39;00m\n",
      "\u001b[0;31mTypeError\u001b[0m: select_by_index(): incompatible function arguments. The following argument types are supported:\n    1. (self: open3d.cuda.pybind.geometry.PointCloud, indices: list[int], invert: bool = False) -> open3d.cuda.pybind.geometry.PointCloud\n\nInvoked with: PointCloud with 14088 points., [array([   47,    48,    49, ..., 14069, 14073, 14082])]"
     ]
    },
    {
     "data": {
      "image/png": "[encoded data removed]",
      "text/plain": [
       "<Figure size 640x480 with 1 Axes>"
      ]
     },
     "metadata": {},
     "output_type": "display_data"
    }
   ],
   "source": [
    "pcd = o3d.io.read_point_cloud(\"p01e_B_16.ply\")\n",
    "pcd_color = paint_color(pcd, \"grey\")\n",
    "\n",
    "width, height = (480, 640)\n",
    "img, depth = o3dpcd2img(pcd_color, width=width, height=height)\n",
    "img, depth, intrins, extrinsic = o3dpcd2img(pcd_color, width=width, height=height, return_camera=True)\n",
    "print(intrins.shape, extrinsic.shape)\n",
    "print(type(intrins))\n",
    "plt.imshow(img)\n",
    "\n",
    "segment2d_anno = np.array([[160, 130], [350, 130], [250, 300]])\n",
    "mask_2d = create_2d_mask(width=width, height=height, annotations=segment2d_anno)\n",
    "plt.imshow(mask_2d)\n",
    "\n",
    "# segment3D_With2DMask(pcd, mask_2d)\n",
    "pcd_uv = project_3d_to_2d(np.array(pcd.points), intrins, extrinsic).astype(np.int32)\n",
    "print(pcd_uv[:,0].max(), pcd_uv[:,1].max())\n",
    "arr_ = mask_2d[pcd_uv[:,0], pcd_uv[:,1]].nonzero()\n",
    "\n",
    "pcd_selected = pcd.select_by_index(list(arr_))\n",
    "o3d.visualization.draw_geometries([pcd_selected])\n",
    "# np.ones((pcd.points.shape[0],1))"
   ]
  },
  {
   "cell_type": "code",
   "execution_count": 15,
   "metadata": {},
   "outputs": [
    {
     "name": "stdout",
     "output_type": "stream",
     "text": [
      "3x3 Intrinsic Matrix:\n",
      "[[500   0 320]\n",
      " [  0 500 240]\n",
      " [  0   0   1]]\n",
      "\n",
      "4x4 Intrinsic Matrix:\n",
      "[[500.   0. 320.   0.]\n",
      " [  0. 500. 240.   0.]\n",
      " [  0.   0.   1.   0.]\n",
      " [  0.   0.   0.   1.]]\n"
     ]
    }
   ],
   "source": [
    "import numpy as np\n",
    "\n",
    "def intrinsic3x3_to_4x4(K_3x3):\n",
    "    \"\"\"Convert a 3x3 intrinsic matrix to a 4x4 matrix.\"\"\"\n",
    "    K_4x4 = np.eye(4)  # Initialize as 4x4 identity matrix\n",
    "    K_4x4[:2, :3] = K_3x3[:2, :3]  # Copy first two rows\n",
    "    K_4x4[2, :3] = K_3x3[2, :3]    # Copy third row\n",
    "    return K_4x4\n",
    "\n",
    "# Example 3x3 intrinsic matrix\n",
    "K_3x3 = np.array([\n",
    "    [500, 0, 320],\n",
    "    [0, 500, 240],\n",
    "    [0, 0, 1]\n",
    "])\n",
    "\n",
    "# Convert to 4x4\n",
    "K_4x4 = intrinsic3x3_to_4x4(K_3x3)\n",
    "\n",
    "print(\"3x3 Intrinsic Matrix:\")\n",
    "print(K_3x3)\n",
    "print(\"\\n4x4 Intrinsic Matrix:\")\n",
    "print(K_4x4)"
   ]
  },
  {
   "cell_type": "code",
   "execution_count": null,
   "metadata": {},
   "outputs": [],
   "source": []
  }
 ],
 "metadata": {
  "kernelspec": {
   "display_name": "pytorch3d",
   "language": "python",
   "name": "python3"
  },
  "language_info": {
   "codemirror_mode": {
    "name": "ipython",
    "version": 3
   },
   "file_extension": ".py",
   "mimetype": "text/x-python",
   "name": "python",
   "nbconvert_exporter": "python",
   "pygments_lexer": "ipython3",
   "version": "3.8.20"
  }
 },
 "nbformat": 4,
 "nbformat_minor": 2
}
